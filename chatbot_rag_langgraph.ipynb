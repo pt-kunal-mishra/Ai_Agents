{
 "cells": [
  {
   "cell_type": "code",
   "execution_count": 1,
   "id": "6684eb90",
   "metadata": {},
   "outputs": [
    {
     "name": "stderr",
     "output_type": "stream",
     "text": [
      "WARNING: Ignoring invalid distribution ~orch (C:\\Users\\Kunal.Mishra\\AppData\\Roaming\\Python\\Python312\\site-packages)\n",
      "WARNING: Ignoring invalid distribution ~orch (C:\\Users\\Kunal.Mishra\\AppData\\Roaming\\Python\\Python312\\site-packages)\n",
      "WARNING: Ignoring invalid distribution ~orch (C:\\Users\\Kunal.Mishra\\AppData\\Roaming\\Python\\Python312\\site-packages)\n"
     ]
    }
   ],
   "source": [
    "%%capture --no-stderr\n",
    "!pip install -q langgraph langchain-mistralai langchain_huggingface"
   ]
  },
  {
   "cell_type": "code",
   "execution_count": 2,
   "id": "a480742b",
   "metadata": {},
   "outputs": [],
   "source": [
    "import getpass\n",
    "import os\n",
    "def _set_env(var:str):\n",
    "    if not os.environ.get(var):\n",
    "        os.environ[var]=getpass.getpass(f\"{var}:\")\n",
    "\n",
    "_set_env(\"Mistral_API_KEY\")        "
   ]
  },
  {
   "cell_type": "code",
   "execution_count": 3,
   "id": "b225bfd7",
   "metadata": {},
   "outputs": [],
   "source": [
    "from typing import Annotated\n",
    "from typing_extensions import TypedDict\n",
    "from langgraph.graph import StateGraph,START,END\n",
    "from langgraph.graph.message import add_messages\n",
    "\n",
    "class State(TypedDict):\n",
    "    messages:Annotated[list,add_messages]\n",
    "\n",
    "graph_builder=StateGraph(State)"
   ]
  },
  {
   "cell_type": "code",
   "execution_count": 24,
   "id": "cb98f0fa",
   "metadata": {},
   "outputs": [],
   "source": [
    "from langchain_mistralai import ChatMistralAI\n",
    "\n",
    "llm = ChatMistralAI(model=\"mistral-large-latest\",\n",
    "    temperature=0,\n",
    "    max_retries=10)\n",
    "\n",
    "\n",
    "# def chatbot(state: State):\n",
    "#     return {\"messages\": [llm.invoke(state[\"messages\"])]}\n",
    "\n",
    "\n",
    "# The first argument is the unique node name\n",
    "# The second argument is the function or object that will be called whenever\n",
    "# the node is used.\n",
    "# graph_builder.add_node(\"chatbot\", chatbot)"
   ]
  },
  {
   "cell_type": "code",
   "execution_count": 25,
   "id": "52b59e06",
   "metadata": {},
   "outputs": [],
   "source": [
    "# graph_builder.add_edge(START,\"chatbot\")\n",
    "# graph_builder.add_edge(\"chatbot\",END)"
   ]
  },
  {
   "cell_type": "code",
   "execution_count": 26,
   "id": "6fa2e223",
   "metadata": {},
   "outputs": [],
   "source": [
    "# graph=graph_builder.compile()"
   ]
  },
  {
   "cell_type": "code",
   "execution_count": 27,
   "id": "11da7edf",
   "metadata": {},
   "outputs": [],
   "source": [
    "# from IPython.display import Image,display\n",
    "# try:\n",
    "#     display(Image(graph.get_graph().draw_mermaid_png()))\n",
    "# except Exception:\n",
    "#     pass\n"
   ]
  },
  {
   "cell_type": "code",
   "execution_count": 31,
   "id": "613c58e6",
   "metadata": {},
   "outputs": [],
   "source": [
    "# def stream_graph_updates(user_input: str):\n",
    "#     for event in graph.stream({\"messages\": [{\"role\": \"user\", \"content\": user_input}]}):\n",
    "#         for value in event.values():\n",
    "#             print(\"Assistant:\", value[\"messages\"][-1].content)\n",
    "\n",
    "\n",
    "# while True:\n",
    "#     try:\n",
    "#         user_input = input(\"User: \")\n",
    "#         if user_input.lower() in [\"quit\", \"exit\", \"q\"]:\n",
    "#             print(\"Goodbye!\")\n",
    "#             break\n",
    "#         stream_graph_updates(user_input)\n",
    "#     except:\n",
    "#         # fallback if input() is not available\n",
    "#         user_input = \"What do you know about the Reinforcement Learning\"\n",
    "#         print(\"User: \" + user_input)\n",
    "#         stream_graph_updates(user_input)\n",
    "        # break"
   ]
  },
  {
   "cell_type": "code",
   "execution_count": 29,
   "id": "ddf07002",
   "metadata": {},
   "outputs": [
    {
     "name": "stderr",
     "output_type": "stream",
     "text": [
      "WARNING: Ignoring invalid distribution ~orch (C:\\Users\\Kunal.Mishra\\AppData\\Roaming\\Python\\Python312\\site-packages)\n",
      "WARNING: Ignoring invalid distribution ~orch (C:\\Users\\Kunal.Mishra\\AppData\\Roaming\\Python\\Python312\\site-packages)\n",
      "WARNING: Ignoring invalid distribution ~orch (C:\\Users\\Kunal.Mishra\\AppData\\Roaming\\Python\\Python312\\site-packages)\n"
     ]
    }
   ],
   "source": [
    "%%capture --no-stderr\n",
    "!pip install -U  tavily-python langchain_community"
   ]
  },
  {
   "cell_type": "code",
   "execution_count": 12,
   "id": "18619701",
   "metadata": {},
   "outputs": [],
   "source": [
    "_set_env(\"TAVILY_API_KEY\")"
   ]
  },
  {
   "cell_type": "code",
   "execution_count": 32,
   "id": "56c2720c",
   "metadata": {},
   "outputs": [
    {
     "data": {
      "text/plain": [
       "[{'title': 'JEE Advanced Electric Current Important Questions - Vedantu',\n",
       "  'url': 'https://www.vedantu.com/jee-advanced/physics-electric-current-important-questions',\n",
       "  'content': 'Keep solving, and keep gaining confidence in your ability!\\n\\nFAQs on JEE Advanced Electric Current Important Questions\\n\\n1. How important is Electric Current for the JEE Examination?\\n\\nCurrent is really an essential as well as fundamental element within electronic and electrical technology. The current that flows in a circuit must be used in varied methods from generating heat to causing circuits to switch and information is stored within an integrated circuit. [...] The total marks for JEE Advanced have calculated 366 Marks. Every paper; Paper I and II carry a total of 183 Marks. The question paper comprises objective-type questions that consist of MCQs (Multiple Choice Questions) as well as Numerical type questions. The question paper is set in English and Hindi only, it is up to the student in which language he wants to attempt the questions. From Electric Current, you can expect a few crucial questions.\\n\\n3. What are the fields of Electric Current? [...] Circular motion. List of concepts. Circular motion.\\n\\nLaws of motion. List of concepts. Concept of Force.\\n\\nCenter of mass and collisions. List of concepts. Center of Mass.\\n\\nPrinciples of Communication. List of concepts. Frequency Modulation.\\n\\nHeating and Chemical Effects of Current. List of concepts.\\n\\nMaximum Power Transfer Theorem.\\n\\n5. How to download Electric Current study material from Vedantu?',\n",
       "  'score': 0.7197191},\n",
       " {'title': 'Current Electricity 01 | Best Questions for JEE Advanced - YouTube',\n",
       "  'url': 'https://www.youtube.com/watch?v=bFLy2aXcqkk',\n",
       "  'content': '🌐 PW Sarkari Exams https://www.youtube.com/@PWSarkariExams\\n🌐 PW Facts https://www.youtube.com/@PWFacts\\n🌐 PW Pathshala https://www.youtube.com/@PWPathshala\\n🌐 PW Vidyapeeth https://www.youtube.com/@VidyapeethPW\\n🌐 PW Insider https://www.youtube.com/@PhysicsWallahInsider\\n🌐 PW Gujarati https://www.youtube.com/@PWGujarati\\n🌐 PW Telugu https://www.youtube.com/@PWTelugu\\n🌐 PW Maharashtra https://www.youtube.com/@PWMaharashtra\\n🌐 PW Kannada https://www.youtube.com/@PWKannada [...] 🌐 UPSC Wallah https://www.youtube.com/@UPSCWallahPW\\n🌐 CA Wallah by PW https://www.youtube.com/@CAWallahbyPW\\n🌐 SSC Wallah https://www.youtube.com/@SSCWallahPW\\n🌐 Banking Wallah https://www.youtube.com/@BankingWallah\\n🌐 Teaching Wallah https://www.youtube.com/@TeachingWallahbyPW\\n🌐 JEE Challengers by PW https://www.youtube.com/@JEEChallengersbyPW\\n🌐 CUET Wallah https://www.youtube.com/@CUETWallahPW\\n🌐 MBA Wallah https://www.youtube.com/@MBAWallah\\n🌐 PSC Wallah https://www.youtube.com/@PSCWallah [...] 🌐 Commerce Wallah by PW https://www.youtube.com/@CommerceWallahPW\\n🌐 PW Little Champs https://www.youtube.com/@PWLittleChamps\\n🌐 GATE Wallah https://www.youtube.com/@GATEWallahbyPW\\n🌐 GATE Wallah - EC, EE & CS https://www.youtube.com/@GATEWallah_EE_EC_CS\\n🌐 GATE Wallah - ME, CE & XE https://www.youtube.com/@GATEWallah_ME_CE_XE\\n🌐 GATE Wallah (English) https://www.youtube.com/@GATEWallahEnglish\\n🌐 College Wallah https://www.youtube.com/@CollegeWallahbyPW',\n",
       "  'score': 0.66569364},\n",
       " {'title': 'Electrostatics JEE Advanced Previous Year Questions With Solutions',\n",
       "  'url': 'https://byjus.com/jee/electrostatics-jee-advanced-previous-year-questions-with-solutions/',\n",
       "  'content': 'Video Lessons. Electrostatics JEE Advanced PY Questions. 3,580. Top 10 Important Questions of Electrostatic Potential and Capacitance. 764. Electric Field &',\n",
       "  'score': 0.65835214},\n",
       " {'title': 'Current Electricity | Physics | JEE Advanced Previous Year Questions',\n",
       "  'url': 'https://questions.examside.com/past-years/jee/jee-advanced/physics/current-electricity',\n",
       "  'content': 'During an experiment with a metre bridge, the galvanometer shall a null point when the jockey is pressed at 40.0 cm using a standard resistance of 90$$\\\\Omega$$, as shown in the figure. The least count of the scale used in the meter bridge is 1 mm. The unknown resistance is\\n\\n\\n\\nIf the direct transmission method with a cable of resistance 0.4 $$\\\\Omega$$ km$$-$$1 is used, the power dissipation (in %) during transmission is [...] Two resistances $R_{1}=X \\\\Omega$ and $R_{2}=1 \\\\Omega$ are connected to a wire $A B$ of uniform resistivity, as shown in the figure. The radius of the wire varies linearly along its axis from $0.2 \\\\mathrm{~mm}$ at $A$ to $1 \\\\mathrm{~mm}$ at $B$. A galvanometer $(\\\\mathrm{G})$ connected to the center of the wire, $50 \\\\mathrm{~cm}$ from each end along its axis, shows zero deflection when $A$ and $B$ are connected to a battery. The value of $X$ is ____________. [...] When two identical batteries of internal resistance 1 $$\\\\Omega$$ each are connected in series across a resistor R, the rate of heat produced in R is J1. When the same batteries are connected in parallel across R, the rate is J2. If J1 = 2.25 J2, then the value of R in $$\\\\Omega$$ is __________.\\n\\nMCQ (More than One Correct Answer)',\n",
       "  'score': 0.5015387},\n",
       " {'title': 'Toughest PYQs for IIT-JEE ADVANCED 2024 - YouTube',\n",
       "  'url': 'https://www.youtube.com/watch?v=5NIEHdTRaEg',\n",
       "  'content': '📲 PW App/Website: https://physicswallah.onelink.me/ZAZB/PWAppWEb\\n📚 PW Store: https://physicswallah.onelink.me/ZAZB/kgmwi9e9\\n-------------------------------------------------------\\nMastering Current Electricity: Toughest PYQs for IIT-JEE Advanced 2024! 🎯 Dive deep into challenging problems, essential concepts, and effective strategies for success in Current Electricity. Elevate your preparation and ace IIT-JEE Advanced with confidence! 🔥\\n------------------------------------------------------- [...] 🌐 Quora: https://pwofficial.quora.com\\n-------------------------------------------------------\\n📌 For any Queries or Complaints visit: https://bit.ly/PW_Queries OR give a Missed Call on 07019-243-492\\n-------------------------------------------------------\\n#JEEAdvanced #MissionIIT2024 #JEEChallengersByPW #PhysicsWallah #JEEAdvanced2024 #JEEAdvanced #PYQs #Physics #CurrentElectricity \\n 7 comments [...] CURRENT ELECTRICITY - Toughest PYQs for IIT-JEE ADVANCED 2024 🎯 \\n JEE Challengers by PW \\n 137 likes \\n 5322 views \\n 8 May 2024 \\n Check Mission IIT Series Here 👉 https://physicswallah.onelink.me/ZAZB/fdsc6n6g\\nJoin Telegram for notes 👉 https://t.me/jeechallengerspw\\n\\nhttps://www.youtube.com/playlist?list=PLqQvd0e0mfbwAzGYf77EciBXfcE01Ukve\\nhttps://www.youtube.com/playlist?list=PLqQvd0e0mfbx4h2HqdWBxdC7kQ5CUWMVS\\nhttps://www.youtube.com/playlist?list=PLqQvd0e0mfbzTjvB10h6eMubK6k9sGTWs',\n",
       "  'score': 0.5009527},\n",
       " {'title': 'Can anyone provide the JEE type questions for electrostatic so that I ...',\n",
       "  'url': 'https://www.quora.com/Can-anyone-provide-the-JEE-type-questions-for-electrostatic-so-that-I-can-judge-myself',\n",
       "  'content': '* Question: A point charge Q is placed at the center of a cube. What is the electric flux through one face of the cube? * Electric Field Lines:.',\n",
       "  'score': 0.45217365},\n",
       " {'title': 'Current Electricity JEE Advanced Previous Year Questions With ...',\n",
       "  'url': 'https://byjus.com/jee/current-electricity-jee-advanced-previous-year-questions-with-solutions/',\n",
       "  'content': 'Jee advanced previous year questions with solutions on current electricity are provided on this page. These answers are provided by the subject experts at',\n",
       "  'score': 0.41449648},\n",
       " {'title': 'Current Electricity - JEE Advanced Previous Year Questions ... - eSaral',\n",
       "  'url': 'https://www.esaral.com/current-electricity-jee-advanced-previous-year-questions-with-solutions/',\n",
       "  'content': \"Current Electricity - JEE Advanced Previous Year Questions with Solutions. Download now India's Best Exam Prepration App. Class 8-9-10, JEE & NEET. Video\",\n",
       "  'score': 0.37511167},\n",
       " {'title': 'How to master the chapter current electricity for the JEE Advanced',\n",
       "  'url': 'https://www.quora.com/How-do-I-master-the-chapter-current-electricity-for-the-JEE-Advanced',\n",
       "  'content': 'Hello Current Electricity is an easy and scoring chapter in physics To master it, first, you need to have your concepts clear like you need',\n",
       "  'score': 0.2878784},\n",
       " {'title': 'Electrostatics - JEE Advanced Previous Year Questions with Solutions',\n",
       "  'url': 'https://www.esaral.com/electrostatics-jee-advanced-previous-year-questions-with-solutions/',\n",
       "  'content': \"Electrostatics - JEE Advanced Previous Year Questions with Solutions. Download now India's Best Exam Prepration App. Class 8-9-10, JEE & NEET. Video Lectures\",\n",
       "  'score': 0.20529656}]"
      ]
     },
     "execution_count": 32,
     "metadata": {},
     "output_type": "execute_result"
    }
   ],
   "source": [
    "from langchain_community.tools.tavily_search import TavilySearchResults\n",
    "tool=TavilySearchResults(max_results=10)\n",
    "tools=[tool]\n",
    "tool.invoke(\"Top 10 question in Electricity for jee advance\")"
   ]
  },
  {
   "cell_type": "code",
   "execution_count": 34,
   "id": "9270cc87",
   "metadata": {},
   "outputs": [
    {
     "name": "stderr",
     "output_type": "stream",
     "text": [
      "Adding a node to a graph that has already been compiled. This will not be reflected in the compiled graph.\n"
     ]
    },
    {
     "data": {
      "text/plain": [
       "<langgraph.graph.state.StateGraph at 0x212a2f50470>"
      ]
     },
     "execution_count": 34,
     "metadata": {},
     "output_type": "execute_result"
    }
   ],
   "source": [
    "llm_with_tools = llm.bind_tools(tools)\n",
    "\n",
    "\n",
    "def chatbot(state: State):\n",
    "    return {\"messages\": [llm_with_tools.invoke(state[\"messages\"])]}\n",
    "\n",
    "\n",
    "graph_builder.add_node(\"chatbot-master\", chatbot)"
   ]
  },
  {
   "cell_type": "code",
   "execution_count": 35,
   "id": "9d5ea97d",
   "metadata": {},
   "outputs": [
    {
     "name": "stderr",
     "output_type": "stream",
     "text": [
      "Adding a node to a graph that has already been compiled. This will not be reflected in the compiled graph.\n"
     ]
    },
    {
     "data": {
      "text/plain": [
       "<langgraph.graph.state.StateGraph at 0x212a2f50470>"
      ]
     },
     "execution_count": 35,
     "metadata": {},
     "output_type": "execute_result"
    }
   ],
   "source": [
    "import json\n",
    "\n",
    "from langchain_core.messages import ToolMessage\n",
    "\n",
    "\n",
    "class BasicToolNode:\n",
    "    \"\"\"A node that runs the tools requested in the last AIMessage.\"\"\"\n",
    "\n",
    "    def __init__(self, tools: list) -> None:\n",
    "        self.tools_by_name = {tool.name: tool for tool in tools}\n",
    "\n",
    "    def __call__(self, inputs: dict):\n",
    "        if messages := inputs.get(\"messages\", []):\n",
    "            message = messages[-1]\n",
    "        else:\n",
    "            raise ValueError(\"No message found in input\")\n",
    "        outputs = []\n",
    "        for tool_call in message.tool_calls:\n",
    "            tool_result = self.tools_by_name[tool_call[\"name\"]].invoke(\n",
    "                tool_call[\"args\"]\n",
    "            )\n",
    "            outputs.append(\n",
    "                ToolMessage(\n",
    "                    content=json.dumps(tool_result),\n",
    "                    name=tool_call[\"name\"],\n",
    "                    tool_call_id=tool_call[\"id\"],\n",
    "                )\n",
    "            )\n",
    "        return {\"messages\": outputs}\n",
    "\n",
    "\n",
    "tool_node = BasicToolNode(tools=[tool])\n",
    "graph_builder.add_node(\"tools\", tool_node)"
   ]
  },
  {
   "cell_type": "code",
   "execution_count": 36,
   "id": "8626fad9",
   "metadata": {},
   "outputs": [
    {
     "name": "stderr",
     "output_type": "stream",
     "text": [
      "Adding an edge to a graph that has already been compiled. This will not be reflected in the compiled graph.\n",
      "Adding an edge to a graph that has already been compiled. This will not be reflected in the compiled graph.\n",
      "Adding an edge to a graph that has already been compiled. This will not be reflected in the compiled graph.\n"
     ]
    }
   ],
   "source": [
    "def route_tools(\n",
    "    state: State,\n",
    "):\n",
    "    \"\"\"\n",
    "    Use in the conditional_edge to route to the ToolNode if the last message\n",
    "    has tool calls. Otherwise, route to the end.\n",
    "    \"\"\"\n",
    "    if isinstance(state, list):\n",
    "        ai_message = state[-1]\n",
    "    elif messages := state.get(\"messages\", []):\n",
    "        ai_message = messages[-1]\n",
    "    else:\n",
    "        raise ValueError(f\"No messages found in input state to tool_edge: {state}\")\n",
    "    if hasattr(ai_message, \"tool_calls\") and len(ai_message.tool_calls) > 0:\n",
    "        return \"tools\"\n",
    "    return END\n",
    "\n",
    "\n",
    "# The `tools_condition` function returns \"tools\" if the chatbot asks to use a tool, and \"END\" if\n",
    "# it is fine directly responding. This conditional routing defines the main agent loop.\n",
    "graph_builder.add_conditional_edges(\n",
    "    \"chatbot\",\n",
    "    route_tools,\n",
    "    # The following dictionary lets you tell the graph to interpret the condition's outputs as a specific node\n",
    "    # It defaults to the identity function, but if you\n",
    "    # want to use a node named something else apart from \"tools\",\n",
    "    # You can update the value of the dictionary to something else\n",
    "    # e.g., \"tools\": \"my_tools\"\n",
    "    {\"tools\": \"tools\", END: END},\n",
    ")\n",
    "# Any time a tool is called, we return to the chatbot to decide the next step\n",
    "graph_builder.add_edge(\"tools\", \"chatbot-master\")\n",
    "graph_builder.add_edge(START, \"chatbot-master\")\n",
    "graph = graph_builder.compile()"
   ]
  },
  {
   "cell_type": "code",
   "execution_count": 37,
   "id": "8549acfa",
   "metadata": {},
   "outputs": [
    {
     "data": {
      "image/png": "[encoded data removed]",
      "text/plain": [
       "<IPython.core.display.Image object>"
      ]
     },
     "metadata": {},
     "output_type": "display_data"
    }
   ],
   "source": [
    "from IPython.display import Image, display\n",
    "\n",
    "try:\n",
    "    display(Image(graph.get_graph().draw_mermaid_png()))\n",
    "except Exception:\n",
    "    # This requires some extra dependencies and is optional\n",
    "    pass"
   ]
  },
  {
   "cell_type": "code",
   "execution_count": 38,
   "id": "281302d2",
   "metadata": {},
   "outputs": [
    {
     "name": "stdout",
     "output_type": "stream",
     "text": [
      "Assistant: \"Zero Dark Thirty\" is a 2012 American thriller film directed by Kathryn Bigelow and written by Mark Boal. The film dramatizes the decade-long hunt for Osama bin Laden, the leader of al-Qaeda, after the September 11 attacks. The title, \"Zero Dark Thirty,\" is a military term for 30 minutes after midnight.\n",
      "\n",
      "The movie focuses on a CIA operative named Maya (played by Jessica Chastain) who is obsessed with finding bin Laden. The narrative covers various intelligence operations, including the use of enhanced interrogation techniques (torture), and culminates in the Navy SEAL Team 6 raid on bin Laden's compound in Abbottabad, Pakistan, on May 2, 2011.\n",
      "\n",
      "\"Zero Dark Thirty\" received critical acclaim for its direction, screenplay, and performances, particularly Chastain's portrayal of Maya. The film was nominated for several awards, including five Academy Awards, and won the Oscar for Best Sound Editing. However, it also sparked controversy due to its depiction of torture and the debate over whether such methods were instrumental in locating bin Laden.\n",
      "Assistant: \"Zero Dark Thirty\" is a 2012 American thriller film directed by Kathryn Bigelow and written by Mark Boal. The movie is a dramatization of the decade-long hunt for Osama bin Laden, the leader of al-Qaeda, after the September 11 attacks. The title refers to a military term for 30 minutes after midnight, and it also reflects the darkness and secrecy surrounding the mission.\n",
      "\n",
      "The film stars Jessica Chastain as Maya, a CIA intelligence analyst who becomes obsessed with finding bin Laden. The narrative follows her relentless pursuit of leads and intelligence, culminating in the successful Navy SEAL Team 6 raid on bin Laden's compound in Abbottabad, Pakistan, on May 2, 2011.\n",
      "\n",
      "\"Zero Dark Thirty\" was critically acclaimed for its intense and realistic portrayal of the events, as well as for Chastain's performance. It was nominated for several awards, including five Academy Awards, and won the Oscar for Best Sound Editing. However, the film also sparked controversy due to its depiction of enhanced interrogation techniques, commonly referred to as torture, and the role they played in gathering intelligence.\n",
      "Assistant: AlphaGo is a computer program developed by DeepMind, a company owned by Alphabet Inc., Google's parent company. It is designed to play the ancient Chinese board game Go. AlphaGo gained significant attention for its groundbreaking achievements in artificial intelligence (AI) and machine learning. Here are some key points about AlphaGo:\n",
      "\n",
      "1. **Game of Go**: Go is a complex board game that involves placing black and white stones on a grid, with the objective of surrounding more territory than the opponent. The game has a vast number of possible moves, making it much more complex than chess.\n",
      "\n",
      "2. **Machine Learning**: AlphaGo uses a combination of advanced machine learning techniques, including deep neural networks and reinforcement learning. It was trained on a large dataset of human games and then improved its skills by playing millions of games against itself.\n",
      "\n",
      "3. **Historic Matches**:\n",
      "   - **AlphaGo vs. Lee Sedol (2016)**: In March 2016, AlphaGo played a five-game match against Lee Sedol, one of the world's top Go players. AlphaGo won four out of the five games, marking a significant milestone in AI's ability to master complex tasks.\n",
      "   - **AlphaGo vs. Ke Jie (2017)**: In May 2017, AlphaGo played against Ke Jie, the world's number one ranked Go player at the time, and won all three games in the match.\n",
      "\n",
      "4. **AlphaGo Zero and AlphaZero**: DeepMind later developed AlphaGo Zero, a version of AlphaGo that learned to play Go entirely from self-play, without any human data. AlphaGo Zero surpassed the performance of the original AlphaGo. Subsequently, DeepMind created AlphaZero, a more generalized AI that could learn to play Go, chess, and shogi (Japanese chess) from scratch, achieving superhuman performance in all three games.\n",
      "\n",
      "5. **Impact on AI Research**: AlphaGo's success demonstrated the potential of AI to tackle complex problems that were previously thought to be beyond the reach of machines. It has inspired further research and development in AI and machine learning.\n",
      "\n",
      "AlphaGo is considered a landmark achievement in the field of artificial intelligence, showcasing the power of deep learning and reinforcement learning techniques.\n",
      "Assistant: AlphaGo is a computer program developed by DeepMind, a British artificial intelligence company and research laboratory. It is designed to play the ancient Chinese board game Go, which is known for its complexity and vast number of possible moves. AlphaGo gained significant attention for its groundbreaking achievements in the field of AI.\n",
      "\n",
      "### Key Milestones:\n",
      "\n",
      "1. **AlphaGo vs. Lee Sedol (2016)**:\n",
      "   - In March 2016, AlphaGo made headlines when it defeated Lee Sedol, one of the world's top Go players, in a best-of-five series. AlphaGo won four out of five games, marking a significant milestone in AI's ability to master complex tasks.\n",
      "\n",
      "2. **AlphaGo vs. Ke Jie (2017)**:\n",
      "   - In May 2017, AlphaGo defeated Ke Jie, the world's number one ranked Go player at the time, in a three-game match. This further solidified AlphaGo's status as a formidable opponent in the game of Go.\n",
      "\n",
      "3. **AlphaGo Zero (2017)**:\n",
      "   - AlphaGo Zero is an improved version of AlphaGo that learned to play Go entirely through self-play, without any human data. It surpassed the original AlphaGo and other versions by learning from scratch, demonstrating the power of reinforcement learning.\n",
      "\n",
      "4. **AlphaZero (2017)**:\n",
      "   - AlphaZero is a more generalized version of AlphaGo Zero that can play not only Go but also chess and shogi (Japanese chess). It achieved superhuman performance in all three games, showcasing the versatility of the underlying algorithms.\n",
      "\n",
      "### Technology and Methods:\n",
      "\n",
      "- **Deep Learning**: AlphaGo uses deep neural networks to evaluate board positions and predict the next move.\n",
      "- **Reinforcement Learning**: The program improves its performance through self-play, learning from its own experiences rather than relying solely on human data.\n",
      "- **Monte Carlo Tree Search (MCTS)**: This algorithm helps AlphaGo explore possible future moves and evaluate their outcomes, guiding its decision-making process.\n",
      "\n",
      "### Impact:\n",
      "\n",
      "AlphaGo's success has had a profound impact on the field of AI, demonstrating the potential of machine learning and reinforcement learning to tackle complex problems. It has also inspired further research and development in AI, leading to advancements in various applications beyond gaming.\n",
      "\n",
      "### Retirement:\n",
      "\n",
      "After achieving its goals and demonstrating its capabilities, DeepMind retired AlphaGo from competitive play. The company has since focused on applying the underlying technologies to other domains, such as scientific research and healthcare.\n",
      "\n",
      "AlphaGo remains a landmark achievement in the history of AI, highlighting the potential for machines to surpass human capabilities in complex tasks.\n",
      "Assistant: \n",
      "Assistant: As of my last update in October 2023, I don't have specific information about an IPL match between Lucknow Super Giants (LSG) and Kolkata Knight Riders (KKR) scheduled for 2025. The Indian Premier League (IPL) schedules are typically announced closer to the start of the season, and details about matches, including dates, venues, and teams, are released by the Board of Control for Cricket in India (BCCI).\n",
      "\n",
      "For the most accurate and up-to-date information, you should check the official IPL website, BCCI announcements, or reliable sports news sources closer to the 2025 IPL season.\n",
      "Goodbye!\n"
     ]
    }
   ],
   "source": [
    "while True:\n",
    "    try:\n",
    "        user_input = input(\"User: \")\n",
    "        if user_input.lower() in [\"quit\", \"exit\", \"q\"]:\n",
    "            print(\"Goodbye!\")\n",
    "            break\n",
    "\n",
    "        stream_graph_updates(user_input)\n",
    "    except:\n",
    "        # fallback if input() is not available\n",
    "        user_input = \"\\\"\n",
    "        print(\"User: \" + user_input)\n",
    "        stream_graph_updates(user_input)\n",
    "        break"
   ]
  },
  {
   "cell_type": "code",
   "execution_count": null,
   "id": "6e822c1b",
   "metadata": {},
   "outputs": [],
   "source": []
  }
 ],
 "metadata": {
  "kernelspec": {
   "display_name": "Python 3",
   "language": "python",
   "name": "python3"
  },
  "language_info": {
   "codemirror_mode": {
    "name": "ipython",
    "version": 3
   },
   "file_extension": ".py",
   "mimetype": "text/x-python",
   "name": "python",
   "nbconvert_exporter": "python",
   "pygments_lexer": "ipython3",
   "version": "3.12.4"
  }
 },
 "nbformat": 4,
 "nbformat_minor": 5
}
